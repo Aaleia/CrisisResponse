{
 "cells": [
  {
   "cell_type": "markdown",
   "id": "b550f6df-59a2-474a-9ac8-ba02ab16f451",
   "metadata": {},
   "source": [
    "# Combining Datasets"
   ]
  },
  {
   "cell_type": "code",
   "execution_count": 1,
   "id": "15b928fc-3caa-4a82-ae1b-88d3c4524488",
   "metadata": {
    "tags": []
   },
   "outputs": [],
   "source": [
    "import pandas as pd\n",
    "import numpy as np\n",
    "\n",
    "import seaborn as sns\n",
    "sns.set()\n",
    "\n",
    "import matplotlib.pyplot as plt\n",
    "%matplotlib inline\n",
    "\n",
    "# Helper function to split our data\n",
    "from sklearn.model_selection import train_test_split\n",
    "\n",
    "# Helper fuctions to evaluate our model.\n",
    "from sklearn.metrics import accuracy_score, precision_score, recall_score, confusion_matrix, classification_report, roc_auc_score, f1_score\n",
    "\n",
    "# Import our Decision Tree\n",
    "from sklearn.tree import DecisionTreeClassifier \n",
    "\n",
    "# Import our Random Forest \n",
    "from sklearn.ensemble import RandomForestClassifier\n",
    "\n",
    "# Import the trees from sklearn\n",
    "from sklearn import tree\n",
    "\n",
    "# Helper functions to visualize our trees\n",
    "from sklearn.tree import plot_tree, export_text"
   ]
  },
  {
   "cell_type": "code",
   "execution_count": 2,
   "id": "56d1f7c0-dadf-445d-9071-2b3a4d7bca93",
   "metadata": {
    "tags": []
   },
   "outputs": [],
   "source": [
    "df = pd.read_csv('EMS-May-June.csv', nrows = 80000)"
   ]
  },
  {
   "cell_type": "code",
   "execution_count": 3,
   "id": "e8a7fbf1-2dd5-4e28-8553-1f1f416d27c4",
   "metadata": {
    "tags": []
   },
   "outputs": [
    {
     "data": {
      "text/html": [
       "<div>\n",
       "<style scoped>\n",
       "    .dataframe tbody tr th:only-of-type {\n",
       "        vertical-align: middle;\n",
       "    }\n",
       "\n",
       "    .dataframe tbody tr th {\n",
       "        vertical-align: top;\n",
       "    }\n",
       "\n",
       "    .dataframe thead th {\n",
       "        text-align: right;\n",
       "    }\n",
       "</style>\n",
       "<table border=\"1\" class=\"dataframe\">\n",
       "  <thead>\n",
       "    <tr style=\"text-align: right;\">\n",
       "      <th></th>\n",
       "      <th>CAD_INCIDENT_ID</th>\n",
       "      <th>INCIDENT_DATETIME</th>\n",
       "      <th>INITIAL_CALL_TYPE</th>\n",
       "      <th>INITIAL_SEVERITY_LEVEL_CODE</th>\n",
       "      <th>FINAL_CALL_TYPE</th>\n",
       "      <th>FINAL_SEVERITY_LEVEL_CODE</th>\n",
       "      <th>FIRST_ASSIGNMENT_DATETIME</th>\n",
       "      <th>VALID_DISPATCH_RSPNS_TIME_INDC</th>\n",
       "      <th>DISPATCH_RESPONSE_SECONDS_QY</th>\n",
       "      <th>FIRST_ACTIVATION_DATETIME</th>\n",
       "      <th>...</th>\n",
       "      <th>ZIPCODE</th>\n",
       "      <th>POLICEPRECINCT</th>\n",
       "      <th>CITYCOUNCILDISTRICT</th>\n",
       "      <th>COMMUNITYDISTRICT</th>\n",
       "      <th>COMMUNITYSCHOOLDISTRICT</th>\n",
       "      <th>CONGRESSIONALDISTRICT</th>\n",
       "      <th>REOPEN_INDICATOR</th>\n",
       "      <th>SPECIAL_EVENT_INDICATOR</th>\n",
       "      <th>STANDBY_INDICATOR</th>\n",
       "      <th>TRANSFER_INDICATOR</th>\n",
       "    </tr>\n",
       "  </thead>\n",
       "  <tbody>\n",
       "    <tr>\n",
       "      <th>0</th>\n",
       "      <td>241220001</td>\n",
       "      <td>05/01/2024 12:00:02 AM</td>\n",
       "      <td>DRUG</td>\n",
       "      <td>4</td>\n",
       "      <td>DRUG</td>\n",
       "      <td>4</td>\n",
       "      <td>05/01/2024 12:00:46 AM</td>\n",
       "      <td>Y</td>\n",
       "      <td>44</td>\n",
       "      <td>05/01/2024 12:01:06 AM</td>\n",
       "      <td>...</td>\n",
       "      <td>11230.0</td>\n",
       "      <td>70.0</td>\n",
       "      <td>40.0</td>\n",
       "      <td>314.0</td>\n",
       "      <td>22.0</td>\n",
       "      <td>9.0</td>\n",
       "      <td>N</td>\n",
       "      <td>N</td>\n",
       "      <td>N</td>\n",
       "      <td>N</td>\n",
       "    </tr>\n",
       "    <tr>\n",
       "      <th>1</th>\n",
       "      <td>241220002</td>\n",
       "      <td>05/01/2024 12:00:40 AM</td>\n",
       "      <td>STNDBM</td>\n",
       "      <td>8</td>\n",
       "      <td>STNDBM</td>\n",
       "      <td>8</td>\n",
       "      <td>05/01/2024 04:54:29 AM</td>\n",
       "      <td>Y</td>\n",
       "      <td>17629</td>\n",
       "      <td>05/01/2024 04:55:09 AM</td>\n",
       "      <td>...</td>\n",
       "      <td>11212.0</td>\n",
       "      <td>73.0</td>\n",
       "      <td>41.0</td>\n",
       "      <td>316.0</td>\n",
       "      <td>23.0</td>\n",
       "      <td>9.0</td>\n",
       "      <td>Y</td>\n",
       "      <td>N</td>\n",
       "      <td>N</td>\n",
       "      <td>N</td>\n",
       "    </tr>\n",
       "    <tr>\n",
       "      <th>2</th>\n",
       "      <td>241220003</td>\n",
       "      <td>05/01/2024 12:00:44 AM</td>\n",
       "      <td>STNDBM</td>\n",
       "      <td>8</td>\n",
       "      <td>STNDBM</td>\n",
       "      <td>8</td>\n",
       "      <td>05/01/2024 04:46:03 AM</td>\n",
       "      <td>Y</td>\n",
       "      <td>17119</td>\n",
       "      <td>05/01/2024 04:46:38 AM</td>\n",
       "      <td>...</td>\n",
       "      <td>11237.0</td>\n",
       "      <td>83.0</td>\n",
       "      <td>37.0</td>\n",
       "      <td>304.0</td>\n",
       "      <td>32.0</td>\n",
       "      <td>7.0</td>\n",
       "      <td>Y</td>\n",
       "      <td>N</td>\n",
       "      <td>N</td>\n",
       "      <td>N</td>\n",
       "    </tr>\n",
       "    <tr>\n",
       "      <th>3</th>\n",
       "      <td>241220004</td>\n",
       "      <td>05/01/2024 12:00:48 AM</td>\n",
       "      <td>STNDBY</td>\n",
       "      <td>8</td>\n",
       "      <td>STNDBY</td>\n",
       "      <td>8</td>\n",
       "      <td>05/01/2024 06:24:45 AM</td>\n",
       "      <td>Y</td>\n",
       "      <td>23037</td>\n",
       "      <td>05/01/2024 06:24:45 AM</td>\n",
       "      <td>...</td>\n",
       "      <td>10035.0</td>\n",
       "      <td>25.0</td>\n",
       "      <td>8.0</td>\n",
       "      <td>111.0</td>\n",
       "      <td>4.0</td>\n",
       "      <td>12.0</td>\n",
       "      <td>Y</td>\n",
       "      <td>N</td>\n",
       "      <td>Y</td>\n",
       "      <td>N</td>\n",
       "    </tr>\n",
       "    <tr>\n",
       "      <th>4</th>\n",
       "      <td>241220005</td>\n",
       "      <td>05/01/2024 12:00:59 AM</td>\n",
       "      <td>UNKNOW</td>\n",
       "      <td>4</td>\n",
       "      <td>DRUG</td>\n",
       "      <td>4</td>\n",
       "      <td>05/01/2024 12:01:14 AM</td>\n",
       "      <td>Y</td>\n",
       "      <td>15</td>\n",
       "      <td>05/01/2024 12:01:33 AM</td>\n",
       "      <td>...</td>\n",
       "      <td>10463.0</td>\n",
       "      <td>50.0</td>\n",
       "      <td>14.0</td>\n",
       "      <td>208.0</td>\n",
       "      <td>10.0</td>\n",
       "      <td>13.0</td>\n",
       "      <td>N</td>\n",
       "      <td>N</td>\n",
       "      <td>N</td>\n",
       "      <td>N</td>\n",
       "    </tr>\n",
       "  </tbody>\n",
       "</table>\n",
       "<p>5 rows × 31 columns</p>\n",
       "</div>"
      ],
      "text/plain": [
       "   CAD_INCIDENT_ID       INCIDENT_DATETIME INITIAL_CALL_TYPE  \\\n",
       "0        241220001  05/01/2024 12:00:02 AM              DRUG   \n",
       "1        241220002  05/01/2024 12:00:40 AM            STNDBM   \n",
       "2        241220003  05/01/2024 12:00:44 AM            STNDBM   \n",
       "3        241220004  05/01/2024 12:00:48 AM            STNDBY   \n",
       "4        241220005  05/01/2024 12:00:59 AM            UNKNOW   \n",
       "\n",
       "   INITIAL_SEVERITY_LEVEL_CODE FINAL_CALL_TYPE  FINAL_SEVERITY_LEVEL_CODE  \\\n",
       "0                            4            DRUG                          4   \n",
       "1                            8          STNDBM                          8   \n",
       "2                            8          STNDBM                          8   \n",
       "3                            8          STNDBY                          8   \n",
       "4                            4            DRUG                          4   \n",
       "\n",
       "  FIRST_ASSIGNMENT_DATETIME VALID_DISPATCH_RSPNS_TIME_INDC  \\\n",
       "0    05/01/2024 12:00:46 AM                              Y   \n",
       "1    05/01/2024 04:54:29 AM                              Y   \n",
       "2    05/01/2024 04:46:03 AM                              Y   \n",
       "3    05/01/2024 06:24:45 AM                              Y   \n",
       "4    05/01/2024 12:01:14 AM                              Y   \n",
       "\n",
       "   DISPATCH_RESPONSE_SECONDS_QY FIRST_ACTIVATION_DATETIME  ...  ZIPCODE  \\\n",
       "0                            44    05/01/2024 12:01:06 AM  ...  11230.0   \n",
       "1                         17629    05/01/2024 04:55:09 AM  ...  11212.0   \n",
       "2                         17119    05/01/2024 04:46:38 AM  ...  11237.0   \n",
       "3                         23037    05/01/2024 06:24:45 AM  ...  10035.0   \n",
       "4                            15    05/01/2024 12:01:33 AM  ...  10463.0   \n",
       "\n",
       "  POLICEPRECINCT  CITYCOUNCILDISTRICT  COMMUNITYDISTRICT  \\\n",
       "0           70.0                 40.0              314.0   \n",
       "1           73.0                 41.0              316.0   \n",
       "2           83.0                 37.0              304.0   \n",
       "3           25.0                  8.0              111.0   \n",
       "4           50.0                 14.0              208.0   \n",
       "\n",
       "  COMMUNITYSCHOOLDISTRICT CONGRESSIONALDISTRICT REOPEN_INDICATOR  \\\n",
       "0                    22.0                   9.0                N   \n",
       "1                    23.0                   9.0                Y   \n",
       "2                    32.0                   7.0                Y   \n",
       "3                     4.0                  12.0                Y   \n",
       "4                    10.0                  13.0                N   \n",
       "\n",
       "  SPECIAL_EVENT_INDICATOR STANDBY_INDICATOR TRANSFER_INDICATOR  \n",
       "0                       N                 N                  N  \n",
       "1                       N                 N                  N  \n",
       "2                       N                 N                  N  \n",
       "3                       N                 Y                  N  \n",
       "4                       N                 N                  N  \n",
       "\n",
       "[5 rows x 31 columns]"
      ]
     },
     "execution_count": 3,
     "metadata": {},
     "output_type": "execute_result"
    }
   ],
   "source": [
    "df.head()"
   ]
  },
  {
   "cell_type": "code",
   "execution_count": 4,
   "id": "452932d6-e105-4371-bf4b-a8e9718e92e9",
   "metadata": {
    "tags": []
   },
   "outputs": [
    {
     "data": {
      "text/plain": [
       "0"
      ]
     },
     "execution_count": 4,
     "metadata": {},
     "output_type": "execute_result"
    }
   ],
   "source": [
    "df.duplicated().sum()"
   ]
  },
  {
   "cell_type": "code",
   "execution_count": 5,
   "id": "6e61e8ed-58ff-4351-bdde-5fcf9d1d91b3",
   "metadata": {
    "tags": []
   },
   "outputs": [],
   "source": [
    "df = df[['CAD_INCIDENT_ID', 'INCIDENT_DATETIME', 'INITIAL_CALL_TYPE', 'INITIAL_SEVERITY_LEVEL_CODE', 'FINAL_CALL_TYPE', 'BOROUGH', 'POLICEPRECINCT']]"
   ]
  },
  {
   "cell_type": "code",
   "execution_count": 6,
   "id": "04c91680-5c13-457f-be89-01eea8030a37",
   "metadata": {
    "tags": []
   },
   "outputs": [],
   "source": [
    "df = df.dropna(subset=['POLICEPRECINCT'])"
   ]
  },
  {
   "cell_type": "code",
   "execution_count": 7,
   "id": "fca906a4-efcc-4e62-8d73-2609e7ca280a",
   "metadata": {
    "tags": []
   },
   "outputs": [
    {
     "data": {
      "text/plain": [
       "CAD_INCIDENT_ID                0\n",
       "INCIDENT_DATETIME              0\n",
       "INITIAL_CALL_TYPE              0\n",
       "INITIAL_SEVERITY_LEVEL_CODE    0\n",
       "FINAL_CALL_TYPE                0\n",
       "BOROUGH                        0\n",
       "POLICEPRECINCT                 0\n",
       "dtype: int64"
      ]
     },
     "execution_count": 7,
     "metadata": {},
     "output_type": "execute_result"
    }
   ],
   "source": [
    "df.isnull().sum()"
   ]
  },
  {
   "cell_type": "code",
   "execution_count": 8,
   "id": "0945e8cd-56eb-4248-8466-286769237f08",
   "metadata": {
    "tags": []
   },
   "outputs": [],
   "source": [
    "from sklearn.preprocessing import LabelEncoder\n",
    "encoder = LabelEncoder()\n",
    "df['INITIAL_CALL_TYPE'] = encoder.fit_transform(df['INITIAL_CALL_TYPE'])\n",
    "df['FINAL_CALL_TYPE'] = encoder.fit_transform(df['FINAL_CALL_TYPE'])\n",
    "df['BOROUGH'] = encoder.fit_transform(df['BOROUGH'])"
   ]
  },
  {
   "cell_type": "code",
   "execution_count": 9,
   "id": "a627d39d-278d-4902-89fa-65bf857ff195",
   "metadata": {
    "tags": []
   },
   "outputs": [
    {
     "name": "stdout",
     "output_type": "stream",
     "text": [
      "<class 'pandas.core.frame.DataFrame'>\n",
      "Int64Index: 79212 entries, 0 to 79999\n",
      "Data columns (total 7 columns):\n",
      " #   Column                       Non-Null Count  Dtype  \n",
      "---  ------                       --------------  -----  \n",
      " 0   CAD_INCIDENT_ID              79212 non-null  int64  \n",
      " 1   INCIDENT_DATETIME            79212 non-null  object \n",
      " 2   INITIAL_CALL_TYPE            79212 non-null  int64  \n",
      " 3   INITIAL_SEVERITY_LEVEL_CODE  79212 non-null  int64  \n",
      " 4   FINAL_CALL_TYPE              79212 non-null  int64  \n",
      " 5   BOROUGH                      79212 non-null  int64  \n",
      " 6   POLICEPRECINCT               79212 non-null  float64\n",
      "dtypes: float64(1), int64(5), object(1)\n",
      "memory usage: 4.8+ MB\n",
      "None\n"
     ]
    }
   ],
   "source": [
    "print(df.info())"
   ]
  },
  {
   "cell_type": "code",
   "execution_count": 10,
   "id": "91a89dd4-4aec-498e-91fd-4e05beaa83b1",
   "metadata": {},
   "outputs": [],
   "source": [
    "#df['incident_year'] = pd.to_datetime(df['INCIDENT_DATETIME']).dt.year\n",
    "df['incident_month'] = pd.to_datetime(df['INCIDENT_DATETIME']).dt.month\n",
    "df['day_of_week'] = pd.to_datetime(df['INCIDENT_DATETIME']).dt.dayofweek\n",
    "df['incident_hour'] = pd.to_datetime(df['INCIDENT_DATETIME']).dt.hour\n",
    "df['INCIDENT_DATETIME'] = pd.to_datetime(df['INCIDENT_DATETIME'])"
   ]
  },
  {
   "cell_type": "code",
   "execution_count": 11,
   "id": "a1482d68-3ee9-41c7-bbde-5ce5f4aefc98",
   "metadata": {
    "tags": []
   },
   "outputs": [],
   "source": [
    "df['POLICEPRECINCT'] = df['POLICEPRECINCT'].astype(int)"
   ]
  },
  {
   "cell_type": "code",
   "execution_count": 12,
   "id": "445c0f3b-8a71-4fac-885a-1ba83410b1ab",
   "metadata": {},
   "outputs": [
    {
     "name": "stdout",
     "output_type": "stream",
     "text": [
      "<class 'pandas.core.frame.DataFrame'>\n",
      "Int64Index: 79212 entries, 0 to 79999\n",
      "Data columns (total 10 columns):\n",
      " #   Column                       Non-Null Count  Dtype         \n",
      "---  ------                       --------------  -----         \n",
      " 0   CAD_INCIDENT_ID              79212 non-null  int64         \n",
      " 1   INCIDENT_DATETIME            79212 non-null  datetime64[ns]\n",
      " 2   INITIAL_CALL_TYPE            79212 non-null  int64         \n",
      " 3   INITIAL_SEVERITY_LEVEL_CODE  79212 non-null  int64         \n",
      " 4   FINAL_CALL_TYPE              79212 non-null  int64         \n",
      " 5   BOROUGH                      79212 non-null  int64         \n",
      " 6   POLICEPRECINCT               79212 non-null  int64         \n",
      " 7   incident_month               79212 non-null  int64         \n",
      " 8   day_of_week                  79212 non-null  int64         \n",
      " 9   incident_hour                79212 non-null  int64         \n",
      "dtypes: datetime64[ns](1), int64(9)\n",
      "memory usage: 6.6 MB\n",
      "None\n"
     ]
    }
   ],
   "source": [
    "print(df.info())"
   ]
  },
  {
   "cell_type": "code",
   "execution_count": null,
   "id": "490fe24a-b1f0-4f96-9845-aed5ca4c7dd2",
   "metadata": {},
   "outputs": [],
   "source": []
  },
  {
   "cell_type": "code",
   "execution_count": null,
   "id": "6283361e-8cae-4ac0-86da-d196d932d177",
   "metadata": {},
   "outputs": [],
   "source": []
  },
  {
   "cell_type": "markdown",
   "id": "af2d7f57-c8f0-4e22-a558-1b48adfaed9f",
   "metadata": {},
   "source": [
    "### Adding Weather Data"
   ]
  },
  {
   "cell_type": "code",
   "execution_count": 13,
   "id": "702278d6-0634-44ca-9d64-b355ea197779",
   "metadata": {
    "tags": []
   },
   "outputs": [],
   "source": [
    "weather_df = pd.read_csv('Weather-May-June.csv', nrows = 1200)"
   ]
  },
  {
   "cell_type": "code",
   "execution_count": 14,
   "id": "608f4deb-9d30-4cce-866a-7a6686c35798",
   "metadata": {
    "tags": []
   },
   "outputs": [
    {
     "data": {
      "text/html": [
       "<div>\n",
       "<style scoped>\n",
       "    .dataframe tbody tr th:only-of-type {\n",
       "        vertical-align: middle;\n",
       "    }\n",
       "\n",
       "    .dataframe tbody tr th {\n",
       "        vertical-align: top;\n",
       "    }\n",
       "\n",
       "    .dataframe thead th {\n",
       "        text-align: right;\n",
       "    }\n",
       "</style>\n",
       "<table border=\"1\" class=\"dataframe\">\n",
       "  <thead>\n",
       "    <tr style=\"text-align: right;\">\n",
       "      <th></th>\n",
       "      <th>time</th>\n",
       "      <th>temperature_2m (F)</th>\n",
       "      <th>relative_humidity_2m (%)</th>\n",
       "      <th>precipitation (inch)</th>\n",
       "      <th>snow_depth (ft)</th>\n",
       "      <th>cloud_cover (%)</th>\n",
       "      <th>wind_speed_10m (mp/h)</th>\n",
       "      <th>wind_gusts_10m (mp/h)</th>\n",
       "    </tr>\n",
       "  </thead>\n",
       "  <tbody>\n",
       "    <tr>\n",
       "      <th>0</th>\n",
       "      <td>2024-05-01T00:00</td>\n",
       "      <td>51.7</td>\n",
       "      <td>93</td>\n",
       "      <td>0.000</td>\n",
       "      <td>0</td>\n",
       "      <td>100</td>\n",
       "      <td>4.7</td>\n",
       "      <td>8.5</td>\n",
       "    </tr>\n",
       "    <tr>\n",
       "      <th>1</th>\n",
       "      <td>2024-05-01T01:00</td>\n",
       "      <td>51.4</td>\n",
       "      <td>94</td>\n",
       "      <td>0.012</td>\n",
       "      <td>0</td>\n",
       "      <td>100</td>\n",
       "      <td>4.3</td>\n",
       "      <td>9.4</td>\n",
       "    </tr>\n",
       "    <tr>\n",
       "      <th>2</th>\n",
       "      <td>2024-05-01T02:00</td>\n",
       "      <td>51.4</td>\n",
       "      <td>96</td>\n",
       "      <td>0.031</td>\n",
       "      <td>0</td>\n",
       "      <td>99</td>\n",
       "      <td>2.7</td>\n",
       "      <td>8.1</td>\n",
       "    </tr>\n",
       "    <tr>\n",
       "      <th>3</th>\n",
       "      <td>2024-05-01T03:00</td>\n",
       "      <td>51.6</td>\n",
       "      <td>94</td>\n",
       "      <td>0.008</td>\n",
       "      <td>0</td>\n",
       "      <td>100</td>\n",
       "      <td>2.2</td>\n",
       "      <td>5.6</td>\n",
       "    </tr>\n",
       "    <tr>\n",
       "      <th>4</th>\n",
       "      <td>2024-05-01T04:00</td>\n",
       "      <td>51.6</td>\n",
       "      <td>94</td>\n",
       "      <td>0.000</td>\n",
       "      <td>0</td>\n",
       "      <td>100</td>\n",
       "      <td>1.9</td>\n",
       "      <td>4.3</td>\n",
       "    </tr>\n",
       "  </tbody>\n",
       "</table>\n",
       "</div>"
      ],
      "text/plain": [
       "               time  temperature_2m (F)  relative_humidity_2m (%)  \\\n",
       "0  2024-05-01T00:00                51.7                        93   \n",
       "1  2024-05-01T01:00                51.4                        94   \n",
       "2  2024-05-01T02:00                51.4                        96   \n",
       "3  2024-05-01T03:00                51.6                        94   \n",
       "4  2024-05-01T04:00                51.6                        94   \n",
       "\n",
       "   precipitation (inch)  snow_depth (ft)  cloud_cover (%)  \\\n",
       "0                 0.000                0              100   \n",
       "1                 0.012                0              100   \n",
       "2                 0.031                0               99   \n",
       "3                 0.008                0              100   \n",
       "4                 0.000                0              100   \n",
       "\n",
       "   wind_speed_10m (mp/h)  wind_gusts_10m (mp/h)  \n",
       "0                    4.7                    8.5  \n",
       "1                    4.3                    9.4  \n",
       "2                    2.7                    8.1  \n",
       "3                    2.2                    5.6  \n",
       "4                    1.9                    4.3  "
      ]
     },
     "execution_count": 14,
     "metadata": {},
     "output_type": "execute_result"
    }
   ],
   "source": [
    "weather_df.head()"
   ]
  },
  {
   "cell_type": "code",
   "execution_count": 15,
   "id": "1484e1b2-c5a7-4ffb-994a-990565f42e15",
   "metadata": {
    "tags": []
   },
   "outputs": [
    {
     "data": {
      "text/plain": [
       "0   2024-05-01 00:00:00\n",
       "1   2024-05-01 01:00:00\n",
       "2   2024-05-01 02:00:00\n",
       "3   2024-05-01 03:00:00\n",
       "4   2024-05-01 04:00:00\n",
       "Name: time, dtype: datetime64[ns]"
      ]
     },
     "execution_count": 15,
     "metadata": {},
     "output_type": "execute_result"
    }
   ],
   "source": [
    "weather_df['time'] = pd.to_datetime(weather_df['time'])\n",
    "weather_df['time'].head()"
   ]
  },
  {
   "cell_type": "code",
   "execution_count": 16,
   "id": "eeb02d08-505a-49bc-9805-26323fefbe40",
   "metadata": {
    "tags": []
   },
   "outputs": [],
   "source": [
    "df['INCIDENT_DATETIME'] = pd.to_datetime(df['INCIDENT_DATETIME'])\n",
    "df['incident_hour_rounded'] = df['INCIDENT_DATETIME'].dt.floor('H')"
   ]
  },
  {
   "cell_type": "code",
   "execution_count": 17,
   "id": "0736b107-2610-45d8-be99-94d53d527b09",
   "metadata": {
    "tags": []
   },
   "outputs": [],
   "source": [
    "merged_df = pd.merge(df, weather_df, left_on='incident_hour_rounded', right_on='time', how='left')"
   ]
  },
  {
   "cell_type": "code",
   "execution_count": 18,
   "id": "5609fbaa-bce4-4cd3-bc05-1fe159521861",
   "metadata": {
    "tags": []
   },
   "outputs": [
    {
     "data": {
      "text/html": [
       "<div>\n",
       "<style scoped>\n",
       "    .dataframe tbody tr th:only-of-type {\n",
       "        vertical-align: middle;\n",
       "    }\n",
       "\n",
       "    .dataframe tbody tr th {\n",
       "        vertical-align: top;\n",
       "    }\n",
       "\n",
       "    .dataframe thead th {\n",
       "        text-align: right;\n",
       "    }\n",
       "</style>\n",
       "<table border=\"1\" class=\"dataframe\">\n",
       "  <thead>\n",
       "    <tr style=\"text-align: right;\">\n",
       "      <th></th>\n",
       "      <th>CAD_INCIDENT_ID</th>\n",
       "      <th>INCIDENT_DATETIME</th>\n",
       "      <th>INITIAL_CALL_TYPE</th>\n",
       "      <th>INITIAL_SEVERITY_LEVEL_CODE</th>\n",
       "      <th>FINAL_CALL_TYPE</th>\n",
       "      <th>BOROUGH</th>\n",
       "      <th>POLICEPRECINCT</th>\n",
       "      <th>incident_month</th>\n",
       "      <th>day_of_week</th>\n",
       "      <th>incident_hour</th>\n",
       "      <th>incident_hour_rounded</th>\n",
       "      <th>temperature_2m (F)</th>\n",
       "      <th>relative_humidity_2m (%)</th>\n",
       "      <th>precipitation (inch)</th>\n",
       "      <th>snow_depth (ft)</th>\n",
       "      <th>cloud_cover (%)</th>\n",
       "      <th>wind_speed_10m (mp/h)</th>\n",
       "      <th>wind_gusts_10m (mp/h)</th>\n",
       "    </tr>\n",
       "  </thead>\n",
       "  <tbody>\n",
       "    <tr>\n",
       "      <th>0</th>\n",
       "      <td>241220001</td>\n",
       "      <td>2024-05-01 00:00:02</td>\n",
       "      <td>22</td>\n",
       "      <td>4</td>\n",
       "      <td>25</td>\n",
       "      <td>1</td>\n",
       "      <td>70</td>\n",
       "      <td>5</td>\n",
       "      <td>2</td>\n",
       "      <td>0</td>\n",
       "      <td>2024-05-01</td>\n",
       "      <td>51.7</td>\n",
       "      <td>93</td>\n",
       "      <td>0.0</td>\n",
       "      <td>0</td>\n",
       "      <td>100</td>\n",
       "      <td>4.7</td>\n",
       "      <td>8.5</td>\n",
       "    </tr>\n",
       "    <tr>\n",
       "      <th>1</th>\n",
       "      <td>241220002</td>\n",
       "      <td>2024-05-01 00:00:40</td>\n",
       "      <td>65</td>\n",
       "      <td>8</td>\n",
       "      <td>74</td>\n",
       "      <td>1</td>\n",
       "      <td>73</td>\n",
       "      <td>5</td>\n",
       "      <td>2</td>\n",
       "      <td>0</td>\n",
       "      <td>2024-05-01</td>\n",
       "      <td>51.7</td>\n",
       "      <td>93</td>\n",
       "      <td>0.0</td>\n",
       "      <td>0</td>\n",
       "      <td>100</td>\n",
       "      <td>4.7</td>\n",
       "      <td>8.5</td>\n",
       "    </tr>\n",
       "    <tr>\n",
       "      <th>2</th>\n",
       "      <td>241220003</td>\n",
       "      <td>2024-05-01 00:00:44</td>\n",
       "      <td>65</td>\n",
       "      <td>8</td>\n",
       "      <td>74</td>\n",
       "      <td>1</td>\n",
       "      <td>83</td>\n",
       "      <td>5</td>\n",
       "      <td>2</td>\n",
       "      <td>0</td>\n",
       "      <td>2024-05-01</td>\n",
       "      <td>51.7</td>\n",
       "      <td>93</td>\n",
       "      <td>0.0</td>\n",
       "      <td>0</td>\n",
       "      <td>100</td>\n",
       "      <td>4.7</td>\n",
       "      <td>8.5</td>\n",
       "    </tr>\n",
       "    <tr>\n",
       "      <th>3</th>\n",
       "      <td>241220004</td>\n",
       "      <td>2024-05-01 00:00:48</td>\n",
       "      <td>66</td>\n",
       "      <td>8</td>\n",
       "      <td>75</td>\n",
       "      <td>2</td>\n",
       "      <td>25</td>\n",
       "      <td>5</td>\n",
       "      <td>2</td>\n",
       "      <td>0</td>\n",
       "      <td>2024-05-01</td>\n",
       "      <td>51.7</td>\n",
       "      <td>93</td>\n",
       "      <td>0.0</td>\n",
       "      <td>0</td>\n",
       "      <td>100</td>\n",
       "      <td>4.7</td>\n",
       "      <td>8.5</td>\n",
       "    </tr>\n",
       "    <tr>\n",
       "      <th>4</th>\n",
       "      <td>241220005</td>\n",
       "      <td>2024-05-01 00:00:59</td>\n",
       "      <td>83</td>\n",
       "      <td>4</td>\n",
       "      <td>25</td>\n",
       "      <td>0</td>\n",
       "      <td>50</td>\n",
       "      <td>5</td>\n",
       "      <td>2</td>\n",
       "      <td>0</td>\n",
       "      <td>2024-05-01</td>\n",
       "      <td>51.7</td>\n",
       "      <td>93</td>\n",
       "      <td>0.0</td>\n",
       "      <td>0</td>\n",
       "      <td>100</td>\n",
       "      <td>4.7</td>\n",
       "      <td>8.5</td>\n",
       "    </tr>\n",
       "  </tbody>\n",
       "</table>\n",
       "</div>"
      ],
      "text/plain": [
       "   CAD_INCIDENT_ID   INCIDENT_DATETIME  INITIAL_CALL_TYPE  \\\n",
       "0        241220001 2024-05-01 00:00:02                 22   \n",
       "1        241220002 2024-05-01 00:00:40                 65   \n",
       "2        241220003 2024-05-01 00:00:44                 65   \n",
       "3        241220004 2024-05-01 00:00:48                 66   \n",
       "4        241220005 2024-05-01 00:00:59                 83   \n",
       "\n",
       "   INITIAL_SEVERITY_LEVEL_CODE  FINAL_CALL_TYPE  BOROUGH  POLICEPRECINCT  \\\n",
       "0                            4               25        1              70   \n",
       "1                            8               74        1              73   \n",
       "2                            8               74        1              83   \n",
       "3                            8               75        2              25   \n",
       "4                            4               25        0              50   \n",
       "\n",
       "   incident_month  day_of_week  incident_hour incident_hour_rounded  \\\n",
       "0               5            2              0            2024-05-01   \n",
       "1               5            2              0            2024-05-01   \n",
       "2               5            2              0            2024-05-01   \n",
       "3               5            2              0            2024-05-01   \n",
       "4               5            2              0            2024-05-01   \n",
       "\n",
       "   temperature_2m (F)  relative_humidity_2m (%)  precipitation (inch)  \\\n",
       "0                51.7                        93                   0.0   \n",
       "1                51.7                        93                   0.0   \n",
       "2                51.7                        93                   0.0   \n",
       "3                51.7                        93                   0.0   \n",
       "4                51.7                        93                   0.0   \n",
       "\n",
       "   snow_depth (ft)  cloud_cover (%)  wind_speed_10m (mp/h)  \\\n",
       "0                0              100                    4.7   \n",
       "1                0              100                    4.7   \n",
       "2                0              100                    4.7   \n",
       "3                0              100                    4.7   \n",
       "4                0              100                    4.7   \n",
       "\n",
       "   wind_gusts_10m (mp/h)  \n",
       "0                    8.5  \n",
       "1                    8.5  \n",
       "2                    8.5  \n",
       "3                    8.5  \n",
       "4                    8.5  "
      ]
     },
     "execution_count": 18,
     "metadata": {},
     "output_type": "execute_result"
    }
   ],
   "source": [
    "# Drop the redundant 'time' column from weather_df after the merge\n",
    "merged_df = merged_df.drop(columns=['time'])\n",
    "\n",
    "# Preview the merged data\n",
    "merged_df.head()"
   ]
  },
  {
   "cell_type": "code",
   "execution_count": 19,
   "id": "a89c4d20-f454-4235-815c-65b864cb70e5",
   "metadata": {
    "tags": []
   },
   "outputs": [
    {
     "name": "stdout",
     "output_type": "stream",
     "text": [
      "<class 'pandas.core.frame.DataFrame'>\n",
      "Int64Index: 79212 entries, 0 to 79211\n",
      "Data columns (total 18 columns):\n",
      " #   Column                       Non-Null Count  Dtype         \n",
      "---  ------                       --------------  -----         \n",
      " 0   CAD_INCIDENT_ID              79212 non-null  int64         \n",
      " 1   INCIDENT_DATETIME            79212 non-null  datetime64[ns]\n",
      " 2   INITIAL_CALL_TYPE            79212 non-null  int64         \n",
      " 3   INITIAL_SEVERITY_LEVEL_CODE  79212 non-null  int64         \n",
      " 4   FINAL_CALL_TYPE              79212 non-null  int64         \n",
      " 5   BOROUGH                      79212 non-null  int64         \n",
      " 6   POLICEPRECINCT               79212 non-null  int64         \n",
      " 7   incident_month               79212 non-null  int64         \n",
      " 8   day_of_week                  79212 non-null  int64         \n",
      " 9   incident_hour                79212 non-null  int64         \n",
      " 10  incident_hour_rounded        79212 non-null  datetime64[ns]\n",
      " 11  temperature_2m (F)           79212 non-null  float64       \n",
      " 12  relative_humidity_2m (%)     79212 non-null  int64         \n",
      " 13  precipitation (inch)         79212 non-null  float64       \n",
      " 14  snow_depth (ft)              79212 non-null  int64         \n",
      " 15  cloud_cover (%)              79212 non-null  int64         \n",
      " 16  wind_speed_10m (mp/h)        79212 non-null  float64       \n",
      " 17  wind_gusts_10m (mp/h)        79212 non-null  float64       \n",
      "dtypes: datetime64[ns](2), float64(4), int64(12)\n",
      "memory usage: 11.5 MB\n"
     ]
    }
   ],
   "source": [
    "merged_df.info()"
   ]
  },
  {
   "cell_type": "code",
   "execution_count": 20,
   "id": "bb49a4b3-479c-4e34-9c7f-19dfe34f405b",
   "metadata": {
    "tags": []
   },
   "outputs": [
    {
     "data": {
      "text/plain": [
       "(79212, 18)"
      ]
     },
     "execution_count": 20,
     "metadata": {},
     "output_type": "execute_result"
    }
   ],
   "source": [
    "merged_df.shape"
   ]
  },
  {
   "cell_type": "markdown",
   "id": "88fe9851-82a4-4128-aca7-4491b17e3e63",
   "metadata": {},
   "source": [
    "### Random Forest"
   ]
  },
  {
   "cell_type": "code",
   "execution_count": 21,
   "id": "af6b30e1-e53f-4c59-90e6-9babd3ddb604",
   "metadata": {
    "tags": []
   },
   "outputs": [],
   "source": [
    "independent_variables = ['INITIAL_CALL_TYPE', 'INITIAL_SEVERITY_LEVEL_CODE', 'incident_month', 'day_of_week', 'incident_hour', 'POLICEPRECINCT', 'temperature_2m (F)', 'relative_humidity_2m (%)', 'cloud_cover (%)', 'precipitation (inch)', 'wind_speed_10m (mp/h)', 'wind_gusts_10m (mp/h)']\n",
    "\n",
    "dependent_variable = 'FINAL_CALL_TYPE'"
   ]
  },
  {
   "cell_type": "code",
   "execution_count": 22,
   "id": "f0ed9702-aa20-4512-89f0-d76ba18e7e52",
   "metadata": {
    "tags": []
   },
   "outputs": [],
   "source": [
    "# Check the distribution of the target variable to identify rare classes\n",
    "class_counts = df[dependent_variable].value_counts()\n",
    "#print(class_counts[class_counts < 6])  # Show classes with fewer than 2 instances\n",
    "\n",
    "# Filter out rows with classes that have fewer than 2 instances\n",
    "model_df = merged_df[merged_df[dependent_variable].isin(class_counts[class_counts > 5].index)]"
   ]
  },
  {
   "cell_type": "code",
   "execution_count": 23,
   "id": "7d66db5f-9cc4-4b3f-ae9e-8c888e88bec9",
   "metadata": {
    "tags": []
   },
   "outputs": [],
   "source": [
    "from sklearn.metrics import classification_report\n",
    "\n",
    "X = merged_df[independent_variables]\n",
    "y = merged_df[dependent_variable]\n",
    "\n",
    "X_train, X_test, y_train, y_test = train_test_split(X, y, test_size=0.20, random_state=42)"
   ]
  },
  {
   "cell_type": "code",
   "execution_count": 24,
   "id": "a8e12881-cf59-4d3b-80f2-6b56614aa3fd",
   "metadata": {},
   "outputs": [],
   "source": [
    "model = RandomForestClassifier(oob_score=True)"
   ]
  },
  {
   "cell_type": "code",
   "execution_count": 25,
   "id": "64a65f79-e454-49f3-a055-e24d97ec8c52",
   "metadata": {},
   "outputs": [
    {
     "data": {
      "text/html": [
       "<style>#sk-container-id-1 {color: black;}#sk-container-id-1 pre{padding: 0;}#sk-container-id-1 div.sk-toggleable {background-color: white;}#sk-container-id-1 label.sk-toggleable__label {cursor: pointer;display: block;width: 100%;margin-bottom: 0;padding: 0.3em;box-sizing: border-box;text-align: center;}#sk-container-id-1 label.sk-toggleable__label-arrow:before {content: \"▸\";float: left;margin-right: 0.25em;color: #696969;}#sk-container-id-1 label.sk-toggleable__label-arrow:hover:before {color: black;}#sk-container-id-1 div.sk-estimator:hover label.sk-toggleable__label-arrow:before {color: black;}#sk-container-id-1 div.sk-toggleable__content {max-height: 0;max-width: 0;overflow: hidden;text-align: left;background-color: #f0f8ff;}#sk-container-id-1 div.sk-toggleable__content pre {margin: 0.2em;color: black;border-radius: 0.25em;background-color: #f0f8ff;}#sk-container-id-1 input.sk-toggleable__control:checked~div.sk-toggleable__content {max-height: 200px;max-width: 100%;overflow: auto;}#sk-container-id-1 input.sk-toggleable__control:checked~label.sk-toggleable__label-arrow:before {content: \"▾\";}#sk-container-id-1 div.sk-estimator input.sk-toggleable__control:checked~label.sk-toggleable__label {background-color: #d4ebff;}#sk-container-id-1 div.sk-label input.sk-toggleable__control:checked~label.sk-toggleable__label {background-color: #d4ebff;}#sk-container-id-1 input.sk-hidden--visually {border: 0;clip: rect(1px 1px 1px 1px);clip: rect(1px, 1px, 1px, 1px);height: 1px;margin: -1px;overflow: hidden;padding: 0;position: absolute;width: 1px;}#sk-container-id-1 div.sk-estimator {font-family: monospace;background-color: #f0f8ff;border: 1px dotted black;border-radius: 0.25em;box-sizing: border-box;margin-bottom: 0.5em;}#sk-container-id-1 div.sk-estimator:hover {background-color: #d4ebff;}#sk-container-id-1 div.sk-parallel-item::after {content: \"\";width: 100%;border-bottom: 1px solid gray;flex-grow: 1;}#sk-container-id-1 div.sk-label:hover label.sk-toggleable__label {background-color: #d4ebff;}#sk-container-id-1 div.sk-serial::before {content: \"\";position: absolute;border-left: 1px solid gray;box-sizing: border-box;top: 0;bottom: 0;left: 50%;z-index: 0;}#sk-container-id-1 div.sk-serial {display: flex;flex-direction: column;align-items: center;background-color: white;padding-right: 0.2em;padding-left: 0.2em;position: relative;}#sk-container-id-1 div.sk-item {position: relative;z-index: 1;}#sk-container-id-1 div.sk-parallel {display: flex;align-items: stretch;justify-content: center;background-color: white;position: relative;}#sk-container-id-1 div.sk-item::before, #sk-container-id-1 div.sk-parallel-item::before {content: \"\";position: absolute;border-left: 1px solid gray;box-sizing: border-box;top: 0;bottom: 0;left: 50%;z-index: -1;}#sk-container-id-1 div.sk-parallel-item {display: flex;flex-direction: column;z-index: 1;position: relative;background-color: white;}#sk-container-id-1 div.sk-parallel-item:first-child::after {align-self: flex-end;width: 50%;}#sk-container-id-1 div.sk-parallel-item:last-child::after {align-self: flex-start;width: 50%;}#sk-container-id-1 div.sk-parallel-item:only-child::after {width: 0;}#sk-container-id-1 div.sk-dashed-wrapped {border: 1px dashed gray;margin: 0 0.4em 0.5em 0.4em;box-sizing: border-box;padding-bottom: 0.4em;background-color: white;}#sk-container-id-1 div.sk-label label {font-family: monospace;font-weight: bold;display: inline-block;line-height: 1.2em;}#sk-container-id-1 div.sk-label-container {text-align: center;}#sk-container-id-1 div.sk-container {/* jupyter's `normalize.less` sets `[hidden] { display: none; }` but bootstrap.min.css set `[hidden] { display: none !important; }` so we also need the `!important` here to be able to override the default hidden behavior on the sphinx rendered scikit-learn.org. See: https://github.com/scikit-learn/scikit-learn/issues/21755 */display: inline-block !important;position: relative;}#sk-container-id-1 div.sk-text-repr-fallback {display: none;}</style><div id=\"sk-container-id-1\" class=\"sk-top-container\"><div class=\"sk-text-repr-fallback\"><pre>RandomForestClassifier(oob_score=True)</pre><b>In a Jupyter environment, please rerun this cell to show the HTML representation or trust the notebook. <br />On GitHub, the HTML representation is unable to render, please try loading this page with nbviewer.org.</b></div><div class=\"sk-container\" hidden><div class=\"sk-item\"><div class=\"sk-estimator sk-toggleable\"><input class=\"sk-toggleable__control sk-hidden--visually\" id=\"sk-estimator-id-1\" type=\"checkbox\" checked><label for=\"sk-estimator-id-1\" class=\"sk-toggleable__label sk-toggleable__label-arrow\">RandomForestClassifier</label><div class=\"sk-toggleable__content\"><pre>RandomForestClassifier(oob_score=True)</pre></div></div></div></div></div>"
      ],
      "text/plain": [
       "RandomForestClassifier(oob_score=True)"
      ]
     },
     "execution_count": 25,
     "metadata": {},
     "output_type": "execute_result"
    }
   ],
   "source": [
    "model.fit(X_train, y_train)"
   ]
  },
  {
   "cell_type": "code",
   "execution_count": 26,
   "id": "30e21448-c2bf-4781-889c-63753eda2e6f",
   "metadata": {},
   "outputs": [
    {
     "name": "stdout",
     "output_type": "stream",
     "text": [
      "              precision    recall  f1-score   support\n",
      "\n",
      "           0       0.89      0.88      0.89       660\n",
      "           2       0.71      0.76      0.73       316\n",
      "           4       0.00      0.00      0.00         3\n",
      "           6       0.79      0.89      0.84       112\n",
      "           7       0.60      0.60      0.60       255\n",
      "           8       0.76      0.69      0.73        75\n",
      "          10       0.00      0.00      0.00         3\n",
      "          11       0.22      0.18      0.20        11\n",
      "          12       0.57      0.29      0.38        28\n",
      "          13       0.75      0.77      0.76       865\n",
      "          14       0.85      0.84      0.85      1110\n",
      "          15       0.00      0.00      0.00         1\n",
      "          16       0.83      0.62      0.71         8\n",
      "          17       0.88      0.65      0.75        23\n",
      "          18       0.00      0.00      0.00         4\n",
      "          19       0.56      0.45      0.50        31\n",
      "          20       0.68      0.71      0.69       178\n",
      "          21       0.75      0.82      0.78       623\n",
      "          23       0.33      0.30      0.32        10\n",
      "          24       0.50      0.12      0.20         8\n",
      "          25       0.79      0.75      0.77      1078\n",
      "          26       0.47      0.47      0.47       428\n",
      "          27       0.67      0.70      0.68       763\n",
      "          28       0.17      0.10      0.12        41\n",
      "          29       0.36      0.38      0.37       224\n",
      "          30       0.10      0.07      0.08        43\n",
      "          31       0.00      0.00      0.00         3\n",
      "          32       0.83      0.71      0.76        34\n",
      "          33       0.50      0.19      0.28        21\n",
      "          34       1.00      0.20      0.33         5\n",
      "          35       0.61      0.33      0.43        33\n",
      "          36       0.70      0.72      0.71       136\n",
      "          37       0.80      0.36      0.50        11\n",
      "          38       0.73      0.74      0.74       697\n",
      "          39       0.65      0.71      0.68       132\n",
      "          40       0.82      0.83      0.83      1782\n",
      "          41       0.67      0.15      0.25        13\n",
      "          42       0.25      0.10      0.14        10\n",
      "          43       1.00      0.40      0.57        10\n",
      "          47       0.00      0.00      0.00         1\n",
      "          48       0.00      0.00      0.00         6\n",
      "          51       0.00      0.00      0.00         3\n",
      "          53       0.57      0.22      0.32        18\n",
      "          54       0.00      0.00      0.00         2\n",
      "          55       0.81      0.93      0.86       357\n",
      "          56       0.25      0.11      0.15        19\n",
      "          57       0.73      0.73      0.73        41\n",
      "          58       0.65      0.34      0.45        38\n",
      "          59       0.60      0.20      0.30        30\n",
      "          60       0.00      0.00      0.00         2\n",
      "          61       0.80      0.85      0.82       198\n",
      "          62       1.00      0.56      0.72        16\n",
      "          63       0.57      0.59      0.58        39\n",
      "          64       0.80      0.86      0.83       258\n",
      "          65       0.56      0.59      0.58       123\n",
      "          66       0.33      0.40      0.36         5\n",
      "          67       0.66      0.59      0.62       124\n",
      "          68       0.29      0.14      0.19        14\n",
      "          69       0.79      0.75      0.77      2015\n",
      "          70       0.74      0.73      0.73        96\n",
      "          71       0.67      0.79      0.72        56\n",
      "          72       0.78      0.76      0.77        62\n",
      "          73       0.80      0.85      0.83       308\n",
      "          74       0.80      0.57      0.67         7\n",
      "          75       0.74      0.94      0.83        31\n",
      "          79       0.00      0.00      0.00         2\n",
      "          82       0.00      0.00      0.00         1\n",
      "          84       0.00      0.00      0.00         3\n",
      "          85       0.00      0.00      0.00         3\n",
      "          88       0.00      0.00      0.00         4\n",
      "          89       0.00      0.00      0.00         0\n",
      "          90       0.00      0.00      0.00         3\n",
      "          91       0.00      0.00      0.00         2\n",
      "          92       0.00      0.00      0.00         2\n",
      "          93       0.00      0.00      0.00         2\n",
      "          94       0.67      0.53      0.59        49\n",
      "          95       0.76      0.81      0.78       868\n",
      "          96       0.77      0.80      0.78      1247\n",
      "\n",
      "    accuracy                           0.75     15843\n",
      "   macro avg       0.49      0.41      0.43     15843\n",
      "weighted avg       0.75      0.75      0.75     15843\n",
      "\n"
     ]
    },
    {
     "name": "stderr",
     "output_type": "stream",
     "text": [
      "/home/aaleia/anaconda3/lib/python3.11/site-packages/sklearn/metrics/_classification.py:1469: UndefinedMetricWarning: Precision and F-score are ill-defined and being set to 0.0 in labels with no predicted samples. Use `zero_division` parameter to control this behavior.\n",
      "  _warn_prf(average, modifier, msg_start, len(result))\n",
      "/home/aaleia/anaconda3/lib/python3.11/site-packages/sklearn/metrics/_classification.py:1469: UndefinedMetricWarning: Recall and F-score are ill-defined and being set to 0.0 in labels with no true samples. Use `zero_division` parameter to control this behavior.\n",
      "  _warn_prf(average, modifier, msg_start, len(result))\n",
      "/home/aaleia/anaconda3/lib/python3.11/site-packages/sklearn/metrics/_classification.py:1469: UndefinedMetricWarning: Precision and F-score are ill-defined and being set to 0.0 in labels with no predicted samples. Use `zero_division` parameter to control this behavior.\n",
      "  _warn_prf(average, modifier, msg_start, len(result))\n",
      "/home/aaleia/anaconda3/lib/python3.11/site-packages/sklearn/metrics/_classification.py:1469: UndefinedMetricWarning: Recall and F-score are ill-defined and being set to 0.0 in labels with no true samples. Use `zero_division` parameter to control this behavior.\n",
      "  _warn_prf(average, modifier, msg_start, len(result))\n",
      "/home/aaleia/anaconda3/lib/python3.11/site-packages/sklearn/metrics/_classification.py:1469: UndefinedMetricWarning: Precision and F-score are ill-defined and being set to 0.0 in labels with no predicted samples. Use `zero_division` parameter to control this behavior.\n",
      "  _warn_prf(average, modifier, msg_start, len(result))\n",
      "/home/aaleia/anaconda3/lib/python3.11/site-packages/sklearn/metrics/_classification.py:1469: UndefinedMetricWarning: Recall and F-score are ill-defined and being set to 0.0 in labels with no true samples. Use `zero_division` parameter to control this behavior.\n",
      "  _warn_prf(average, modifier, msg_start, len(result))\n"
     ]
    }
   ],
   "source": [
    "y_pred = model.predict(X_test)\n",
    "print(classification_report(y_test, y_pred))"
   ]
  },
  {
   "cell_type": "code",
   "execution_count": null,
   "id": "dfca16ef-deee-401a-8ea9-fd6a51dd8506",
   "metadata": {},
   "outputs": [],
   "source": []
  },
  {
   "cell_type": "code",
   "execution_count": null,
   "id": "97aa8d35-65e7-4c83-a691-d440c8e2d641",
   "metadata": {},
   "outputs": [],
   "source": []
  },
  {
   "cell_type": "code",
   "execution_count": null,
   "id": "39d5ea9e-803b-4496-8043-2845db2eb9b8",
   "metadata": {},
   "outputs": [],
   "source": []
  },
  {
   "cell_type": "code",
   "execution_count": 27,
   "id": "5d1394c6-cfed-4b7b-a0ac-0409678619be",
   "metadata": {
    "tags": []
   },
   "outputs": [
    {
     "data": {
      "text/plain": [
       "'\\n\\nmodel = DecisionTreeClassifier(max_depth=2)\\n\\nX = df[independent_variables]\\n\\ny = df[dependent_variable]\\n\\nX_train, X_test, y_train, y_test = train_test_split(X, y, stratify=y, test_size=0.2, random_state=45)\\n\\nprint(\\'Shape of our X_train data:\\', X_train.shape, \\'\\nShape of our y_test data:\\', y_test.shape)\\n\\n\\nmodel.fit(X_train,y_train)\\n\\ny_pred = model.predict(X_test)\\n\\n\\n## Eval Model \\naccuracy = accuracy_score(y_true=y_test, y_pred=y_pred)\\nprint(\"Accuracy Score: %f\" % accuracy)\\n\\nprecision = precision_score(y_true=y_test, y_pred=y_pred, average=\\'weighted\\')\\nprint(\"Precision Score: %f\" % precision)\\n\\nrecall = recall_score(y_true=y_test, y_pred=y_pred, average=\\'weighted\\')\\nprint(\"Recall Score: %f\" % recall)\\n\\nf1 = f1_score(y_true=y_test, y_pred=y_pred, average=\\'weighted\\')\\nprint(\\'F1 Score: %f\\' % f1)\\n\\n\\n# Calculate predicted probabilities\\ny_pred_proba = model.predict_proba(X_test)\\n\\n# # Keep only the proba for True\\ny_pred_proba = y_pred_proba[:,1]\\n\\nprint(y_pred_proba.shape)\\n\\n# Compute AUC score for multiclass classification with \\'ovr\\' method\\nauc = roc_auc_score(y_true=y_test, y_score=y_pred_proba, multi_class=\\'ovr\\', average=\\'weighted\\')\\nprint(\\'AUC Score: %f\\' % auc)\\n\\n\\n# Produce classification Report\\nprint(classification_report(y_test, y_pred))\\n\\n'"
      ]
     },
     "execution_count": 27,
     "metadata": {},
     "output_type": "execute_result"
    }
   ],
   "source": [
    "'''\n",
    "\n",
    "model = DecisionTreeClassifier(max_depth=2)\n",
    "\n",
    "X = df[independent_variables]\n",
    "\n",
    "y = df[dependent_variable]\n",
    "\n",
    "X_train, X_test, y_train, y_test = train_test_split(X, y, stratify=y, test_size=0.2, random_state=45)\n",
    "\n",
    "print('Shape of our X_train data:', X_train.shape, '\\nShape of our y_test data:', y_test.shape)\n",
    "\n",
    "\n",
    "model.fit(X_train,y_train)\n",
    "\n",
    "y_pred = model.predict(X_test)\n",
    "\n",
    "\n",
    "## Eval Model \n",
    "accuracy = accuracy_score(y_true=y_test, y_pred=y_pred)\n",
    "print(\"Accuracy Score: %f\" % accuracy)\n",
    "\n",
    "precision = precision_score(y_true=y_test, y_pred=y_pred, average='weighted')\n",
    "print(\"Precision Score: %f\" % precision)\n",
    "\n",
    "recall = recall_score(y_true=y_test, y_pred=y_pred, average='weighted')\n",
    "print(\"Recall Score: %f\" % recall)\n",
    "\n",
    "f1 = f1_score(y_true=y_test, y_pred=y_pred, average='weighted')\n",
    "print('F1 Score: %f' % f1)\n",
    "\n",
    "\n",
    "# Calculate predicted probabilities\n",
    "y_pred_proba = model.predict_proba(X_test)\n",
    "\n",
    "# # Keep only the proba for True\n",
    "y_pred_proba = y_pred_proba[:,1]\n",
    "\n",
    "print(y_pred_proba.shape)\n",
    "\n",
    "# Compute AUC score for multiclass classification with 'ovr' method\n",
    "auc = roc_auc_score(y_true=y_test, y_score=y_pred_proba, multi_class='ovr', average='weighted')\n",
    "print('AUC Score: %f' % auc)\n",
    "\n",
    "\n",
    "# Produce classification Report\n",
    "print(classification_report(y_test, y_pred))\n",
    "\n",
    "'''"
   ]
  },
  {
   "cell_type": "code",
   "execution_count": null,
   "id": "ae27fdb5-5d01-4eac-bde4-0326b44ffe71",
   "metadata": {},
   "outputs": [],
   "source": []
  }
 ],
 "metadata": {
  "kernelspec": {
   "display_name": "Python 3 (ipykernel)",
   "language": "python",
   "name": "python3"
  },
  "language_info": {
   "codemirror_mode": {
    "name": "ipython",
    "version": 3
   },
   "file_extension": ".py",
   "mimetype": "text/x-python",
   "name": "python",
   "nbconvert_exporter": "python",
   "pygments_lexer": "ipython3",
   "version": "3.11.4"
  }
 },
 "nbformat": 4,
 "nbformat_minor": 5
}

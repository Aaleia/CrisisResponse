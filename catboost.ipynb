{
 "cells": [
  {
   "cell_type": "code",
   "execution_count": 1,
   "metadata": {
    "_cell_guid": "b1076dfc-b9ad-4769-8c92-a6c4dae69d19",
    "_uuid": "8f2839f25d086af736a60e9eeb907d3b93b6e0e5",
    "execution": {
     "iopub.execute_input": "2024-11-13T02:08:00.915763Z",
     "iopub.status.busy": "2024-11-13T02:08:00.914647Z",
     "iopub.status.idle": "2024-11-13T02:08:02.318282Z",
     "shell.execute_reply": "2024-11-13T02:08:02.316822Z",
     "shell.execute_reply.started": "2024-11-13T02:08:00.915707Z"
    },
    "trusted": true
   },
   "outputs": [],
   "source": [
    "# This Python 3 environment comes with many helpful analytics libraries installed\n",
    "# It is defined by the kaggle/python Docker image: https://github.com/kaggle/docker-python\n",
    "# For example, here's several helpful packages to load\n",
    "\n",
    "import numpy as np # linear algebra\n",
    "import pandas as pd # data processing, CSV file I/O (e.g. pd.read_csv)\n",
    "import matplotlib.pyplot as plt\n",
    "import seaborn as sns\n",
    "\n",
    "# Input data files are available in the read-only \"../input/\" directory\n",
    "# For example, running this (by clicking run or pressing Shift+Enter) will list all files under the input directory\n",
    "\n",
    "# import os\n",
    "# for dirname, _, filenames in os.walk('/kaggle/input'):\n",
    "#     for filename in filenames:\n",
    "#         print(os.path.join(dirname, filename))\n",
    "\n",
    "# You can write up to 20GB to the current directory (/kaggle/working/) that gets preserved as output when you create a version using \"Save & Run All\" \n",
    "# You can also write temporary files to /kaggle/temp/, but they won't be saved outside of the current session"
   ]
  },
  {
   "cell_type": "code",
   "execution_count": 2,
   "metadata": {
    "execution": {
     "iopub.execute_input": "2024-11-13T02:08:02.321427Z",
     "iopub.status.busy": "2024-11-13T02:08:02.320820Z"
    },
    "trusted": true
   },
   "outputs": [
    {
     "name": "stdout",
     "output_type": "stream",
     "text": [
      "--------------------------------------------------------------------------------\n"
     ]
    }
   ],
   "source": [
    "# df = pd.read_csv('/kaggle/input/ny-ems-incident-dispatch-data/ems-incident-dispatch-data.csv', nrows=500000)\n",
    "#df = pd.read_csv('/kaggle/input/ny-ems-incident-dispatch-data/ems-incident-dispatch-data.csv')\n",
    "\n",
    "# Iterates through all columns and modifies the data type to reduce memory usage\n",
    "def reduce_mem_usage(df):\n",
    "    \n",
    "    start_mem = df.memory_usage().sum() / 1024**2\n",
    "    print('Memory usage of dataframe is {:.2f} MB'.format(start_mem))\n",
    "    \n",
    "    for col in df.columns:\n",
    "        col_type = df[col].dtype\n",
    "        \n",
    "        if col_type != object:\n",
    "            c_min = df[col].min()\n",
    "            c_max = df[col].max()\n",
    "            if str(col_type)[:3] == 'int':\n",
    "                if c_min > np.iinfo(np.int8).min and c_max < np.iinfo(np.int8).max:\n",
    "                    df[col] = df[col].astype(np.int8)\n",
    "                elif c_min > np.iinfo(np.int16).min and c_max < np.iinfo(np.int16).max:\n",
    "                    df[col] = df[col].astype(np.int16)\n",
    "                elif c_min > np.iinfo(np.int32).min and c_max < np.iinfo(np.int32).max:\n",
    "                    df[col] = df[col].astype(np.int32)\n",
    "                elif c_min > np.iinfo(np.int64).min and c_max < np.iinfo(np.int64).max:\n",
    "                    df[col] = df[col].astype(np.int64)  \n",
    "            else:\n",
    "                if c_min > np.finfo(np.float16).min and c_max < np.finfo(np.float16).max:\n",
    "                    df[col] = df[col].astype(np.float16)\n",
    "                elif c_min > np.finfo(np.float32).min and c_max < np.finfo(np.float32).max:\n",
    "                    df[col] = df[col].astype(np.float32)\n",
    "                else:\n",
    "                    df[col] = df[col].astype(np.float64)\n",
    "        else:\n",
    "            df[col] = df[col].astype('category')\n",
    "\n",
    "    end_mem = df.memory_usage().sum() / 1024**2\n",
    "    print('Memory usage after optimization: {:.2f} MB'.format(end_mem))\n",
    "    print('Decreased by {:.1f}%'.format(100 * (start_mem - end_mem) / start_mem))\n",
    "    \n",
    "    return df\n",
    "\n",
    "\n",
    "# Creates a dataframe and optimizes its memory usage\n",
    "def import_data(file):\n",
    "    df = pd.read_csv(file, parse_dates=True)\n",
    "    # df = reduce_mem_usage(df)\n",
    "    return df\n",
    "\n",
    "\n",
    "\n",
    "print('-' * 80)\n",
    "\n",
    "train = import_data('EMS_Incident_Dispatch_Data_20241118.csv')\n",
    "\n",
    "\n"
   ]
  },
  {
   "cell_type": "code",
   "execution_count": 3,
   "metadata": {
    "trusted": true
   },
   "outputs": [],
   "source": [
    "df = train"
   ]
  },
  {
   "cell_type": "code",
   "execution_count": 4,
   "metadata": {
    "trusted": true
   },
   "outputs": [
    {
     "data": {
      "text/plain": [
       "(279350, 31)"
      ]
     },
     "execution_count": 4,
     "metadata": {},
     "output_type": "execute_result"
    }
   ],
   "source": [
    "df.shape"
   ]
  },
  {
   "cell_type": "code",
   "execution_count": 5,
   "metadata": {
    "trusted": true
   },
   "outputs": [
    {
     "name": "stdout",
     "output_type": "stream",
     "text": [
      "<class 'pandas.core.frame.DataFrame'>\n",
      "RangeIndex: 279350 entries, 0 to 279349\n",
      "Data columns (total 31 columns):\n",
      " #   Column                          Non-Null Count   Dtype  \n",
      "---  ------                          --------------   -----  \n",
      " 0   CAD_INCIDENT_ID                 279350 non-null  int64  \n",
      " 1   INCIDENT_DATETIME               279350 non-null  object \n",
      " 2   INITIAL_CALL_TYPE               279350 non-null  object \n",
      " 3   INITIAL_SEVERITY_LEVEL_CODE     279350 non-null  int64  \n",
      " 4   FINAL_CALL_TYPE                 279350 non-null  object \n",
      " 5   FINAL_SEVERITY_LEVEL_CODE       279350 non-null  int64  \n",
      " 6   FIRST_ASSIGNMENT_DATETIME       272560 non-null  object \n",
      " 7   VALID_DISPATCH_RSPNS_TIME_INDC  279350 non-null  object \n",
      " 8   DISPATCH_RESPONSE_SECONDS_QY    279350 non-null  int64  \n",
      " 9   FIRST_ACTIVATION_DATETIME       271905 non-null  object \n",
      " 10  FIRST_ON_SCENE_DATETIME         261124 non-null  object \n",
      " 11  VALID_INCIDENT_RSPNS_TIME_INDC  279350 non-null  object \n",
      " 12  INCIDENT_RESPONSE_SECONDS_QY    261055 non-null  float64\n",
      " 13  INCIDENT_TRAVEL_TM_SECONDS_QY   261123 non-null  float64\n",
      " 14  FIRST_TO_HOSP_DATETIME          168793 non-null  object \n",
      " 15  FIRST_HOSP_ARRIVAL_DATETIME     168131 non-null  object \n",
      " 16  INCIDENT_CLOSE_DATETIME         279318 non-null  object \n",
      " 17  HELD_INDICATOR                  279350 non-null  object \n",
      " 18  INCIDENT_DISPOSITION_CODE       279350 non-null  object \n",
      " 19  BOROUGH                         279350 non-null  object \n",
      " 20  INCIDENT_DISPATCH_AREA          279350 non-null  object \n",
      " 21  ZIPCODE                         276431 non-null  float64\n",
      " 22  POLICEPRECINCT                  276443 non-null  float64\n",
      " 23  CITYCOUNCILDISTRICT             276443 non-null  float64\n",
      " 24  COMMUNITYDISTRICT               276443 non-null  float64\n",
      " 25  COMMUNITYSCHOOLDISTRICT         276208 non-null  float64\n",
      " 26  CONGRESSIONALDISTRICT           276443 non-null  float64\n",
      " 27  REOPEN_INDICATOR                279350 non-null  object \n",
      " 28  SPECIAL_EVENT_INDICATOR         279350 non-null  object \n",
      " 29  STANDBY_INDICATOR               279350 non-null  object \n",
      " 30  TRANSFER_INDICATOR              279350 non-null  object \n",
      "dtypes: float64(8), int64(4), object(19)\n",
      "memory usage: 66.1+ MB\n"
     ]
    }
   ],
   "source": [
    "df.info()"
   ]
  },
  {
   "cell_type": "code",
   "execution_count": 6,
   "metadata": {
    "trusted": true
   },
   "outputs": [
    {
     "data": {
      "text/plain": [
       "CAD_INCIDENT_ID                        0\n",
       "INCIDENT_DATETIME                      0\n",
       "INITIAL_CALL_TYPE                      0\n",
       "INITIAL_SEVERITY_LEVEL_CODE            0\n",
       "FINAL_CALL_TYPE                        0\n",
       "FINAL_SEVERITY_LEVEL_CODE              0\n",
       "FIRST_ASSIGNMENT_DATETIME           6790\n",
       "VALID_DISPATCH_RSPNS_TIME_INDC         0\n",
       "DISPATCH_RESPONSE_SECONDS_QY           0\n",
       "FIRST_ACTIVATION_DATETIME           7445\n",
       "FIRST_ON_SCENE_DATETIME            18226\n",
       "VALID_INCIDENT_RSPNS_TIME_INDC         0\n",
       "INCIDENT_RESPONSE_SECONDS_QY       18295\n",
       "INCIDENT_TRAVEL_TM_SECONDS_QY      18227\n",
       "FIRST_TO_HOSP_DATETIME            110557\n",
       "FIRST_HOSP_ARRIVAL_DATETIME       111219\n",
       "INCIDENT_CLOSE_DATETIME               32\n",
       "HELD_INDICATOR                         0\n",
       "INCIDENT_DISPOSITION_CODE              0\n",
       "BOROUGH                                0\n",
       "INCIDENT_DISPATCH_AREA                 0\n",
       "ZIPCODE                             2919\n",
       "POLICEPRECINCT                      2907\n",
       "CITYCOUNCILDISTRICT                 2907\n",
       "COMMUNITYDISTRICT                   2907\n",
       "COMMUNITYSCHOOLDISTRICT             3142\n",
       "CONGRESSIONALDISTRICT               2907\n",
       "REOPEN_INDICATOR                       0\n",
       "SPECIAL_EVENT_INDICATOR                0\n",
       "STANDBY_INDICATOR                      0\n",
       "TRANSFER_INDICATOR                     0\n",
       "dtype: int64"
      ]
     },
     "execution_count": 6,
     "metadata": {},
     "output_type": "execute_result"
    }
   ],
   "source": [
    "df.isnull().sum()"
   ]
  },
  {
   "cell_type": "code",
   "execution_count": 7,
   "metadata": {
    "trusted": true
   },
   "outputs": [
    {
     "name": "stderr",
     "output_type": "stream",
     "text": [
      "/tmp/ipykernel_28959/438585344.py:1: UserWarning: Could not infer format, so each element will be parsed individually, falling back to `dateutil`. To ensure parsing is consistent and as-expected, please specify a format.\n",
      "  df['INCIDENT_DATETIME'] = pd.to_datetime(df['INCIDENT_DATETIME'])\n"
     ]
    }
   ],
   "source": [
    "df['INCIDENT_DATETIME'] = pd.to_datetime(df['INCIDENT_DATETIME'])\n",
    "\n",
    "df['incident_year'] = df['INCIDENT_DATETIME'].dt.year\n",
    "df['incident_month'] = df['INCIDENT_DATETIME'].dt.month\n",
    "df['day_of_week'] = df['INCIDENT_DATETIME'].dt.dayofweek\n",
    "df['incident_hour'] = df['INCIDENT_DATETIME'].dt.hour\n",
    "\n",
    "\n",
    "df['INCIDENT_CLOSE_DATETIME'] = pd.to_datetime(df['INCIDENT_CLOSE_DATETIME'])\n",
    "df['incident_duration'] = (df['INCIDENT_CLOSE_DATETIME'] - df['INCIDENT_DATETIME']).dt.total_seconds()\n",
    "df['HELD_INDICATOR'] = df['HELD_INDICATOR'].apply(lambda x: 1 if x == 'Y' else 0)"
   ]
  },
  {
   "cell_type": "code",
   "execution_count": 8,
   "metadata": {},
   "outputs": [
    {
     "name": "stdout",
     "output_type": "stream",
     "text": [
      "CAD_INCIDENT_ID                                241220001\n",
      "INCIDENT_DATETIME                    2024-05-01 00:00:02\n",
      "INITIAL_CALL_TYPE                                   DRUG\n",
      "INITIAL_SEVERITY_LEVEL_CODE                            4\n",
      "FINAL_CALL_TYPE                                     DRUG\n",
      "FINAL_SEVERITY_LEVEL_CODE                              4\n",
      "FIRST_ASSIGNMENT_DATETIME         05/01/2024 12:00:46 AM\n",
      "VALID_DISPATCH_RSPNS_TIME_INDC                         Y\n",
      "DISPATCH_RESPONSE_SECONDS_QY                          44\n",
      "FIRST_ACTIVATION_DATETIME         05/01/2024 12:01:06 AM\n",
      "FIRST_ON_SCENE_DATETIME           05/01/2024 12:12:17 AM\n",
      "VALID_INCIDENT_RSPNS_TIME_INDC                         Y\n",
      "INCIDENT_RESPONSE_SECONDS_QY                       735.0\n",
      "INCIDENT_TRAVEL_TM_SECONDS_QY                      691.0\n",
      "FIRST_TO_HOSP_DATETIME                               NaN\n",
      "FIRST_HOSP_ARRIVAL_DATETIME                          NaN\n",
      "INCIDENT_CLOSE_DATETIME              2024-05-01 01:01:56\n",
      "HELD_INDICATOR                                         0\n",
      "INCIDENT_DISPOSITION_CODE                             93\n",
      "BOROUGH                                         BROOKLYN\n",
      "INCIDENT_DISPATCH_AREA                                K2\n",
      "ZIPCODE                                          11230.0\n",
      "POLICEPRECINCT                                      70.0\n",
      "CITYCOUNCILDISTRICT                                 40.0\n",
      "COMMUNITYDISTRICT                                  314.0\n",
      "COMMUNITYSCHOOLDISTRICT                             22.0\n",
      "CONGRESSIONALDISTRICT                                9.0\n",
      "REOPEN_INDICATOR                                       N\n",
      "SPECIAL_EVENT_INDICATOR                                N\n",
      "STANDBY_INDICATOR                                      N\n",
      "TRANSFER_INDICATOR                                     N\n",
      "incident_year                                       2024\n",
      "incident_month                                         5\n",
      "day_of_week                                            2\n",
      "incident_hour                                          0\n",
      "incident_duration                                 3714.0\n",
      "Name: 0, dtype: object\n"
     ]
    }
   ],
   "source": [
    "print(df.loc[0])"
   ]
  },
  {
   "cell_type": "code",
   "execution_count": 9,
   "metadata": {
    "trusted": true
   },
   "outputs": [],
   "source": [
    "from sklearn.model_selection import train_test_split\n",
    "from sklearn.ensemble import RandomForestClassifier\n",
    "from sklearn.metrics import classification_report, accuracy_score\n",
    "from sklearn.preprocessing import LabelEncoder"
   ]
  },
  {
   "cell_type": "code",
   "execution_count": 22,
   "metadata": {
    "trusted": true
   },
   "outputs": [],
   "source": [
    "target_col = 'FINAL_CALL_TYPE'\n",
    "feature_cols = ['INITIAL_CALL_TYPE', 'INITIAL_SEVERITY_LEVEL_CODE', 'day_of_week', 'incident_hour', 'POLICEPRECINCT']"
   ]
  },
  {
   "cell_type": "code",
   "execution_count": 11,
   "metadata": {
    "trusted": true
   },
   "outputs": [
    {
     "data": {
      "text/plain": [
       "CAD_INCIDENT_ID                        0\n",
       "INCIDENT_DATETIME                      0\n",
       "INITIAL_CALL_TYPE                      0\n",
       "INITIAL_SEVERITY_LEVEL_CODE            0\n",
       "FINAL_CALL_TYPE                        0\n",
       "FINAL_SEVERITY_LEVEL_CODE              0\n",
       "FIRST_ASSIGNMENT_DATETIME           6790\n",
       "VALID_DISPATCH_RSPNS_TIME_INDC         0\n",
       "DISPATCH_RESPONSE_SECONDS_QY           0\n",
       "FIRST_ACTIVATION_DATETIME           7445\n",
       "FIRST_ON_SCENE_DATETIME            18226\n",
       "VALID_INCIDENT_RSPNS_TIME_INDC         0\n",
       "INCIDENT_RESPONSE_SECONDS_QY       18295\n",
       "INCIDENT_TRAVEL_TM_SECONDS_QY      18227\n",
       "FIRST_TO_HOSP_DATETIME            110557\n",
       "FIRST_HOSP_ARRIVAL_DATETIME       111219\n",
       "INCIDENT_CLOSE_DATETIME               32\n",
       "HELD_INDICATOR                         0\n",
       "INCIDENT_DISPOSITION_CODE              0\n",
       "BOROUGH                                0\n",
       "INCIDENT_DISPATCH_AREA                 0\n",
       "ZIPCODE                             2919\n",
       "POLICEPRECINCT                      2907\n",
       "CITYCOUNCILDISTRICT                 2907\n",
       "COMMUNITYDISTRICT                   2907\n",
       "COMMUNITYSCHOOLDISTRICT             3142\n",
       "CONGRESSIONALDISTRICT               2907\n",
       "REOPEN_INDICATOR                       0\n",
       "SPECIAL_EVENT_INDICATOR                0\n",
       "STANDBY_INDICATOR                      0\n",
       "TRANSFER_INDICATOR                     0\n",
       "incident_year                          0\n",
       "incident_month                         0\n",
       "day_of_week                            0\n",
       "incident_hour                          0\n",
       "incident_duration                     32\n",
       "dtype: int64"
      ]
     },
     "execution_count": 11,
     "metadata": {},
     "output_type": "execute_result"
    }
   ],
   "source": [
    "df.isnull().sum()"
   ]
  },
  {
   "cell_type": "code",
   "execution_count": 12,
   "metadata": {},
   "outputs": [],
   "source": [
    "df.dropna(subset=feature_cols, inplace=True)"
   ]
  },
  {
   "cell_type": "code",
   "execution_count": 13,
   "metadata": {},
   "outputs": [
    {
     "data": {
      "text/plain": [
       "CAD_INCIDENT_ID                        0\n",
       "INCIDENT_DATETIME                      0\n",
       "INITIAL_CALL_TYPE                      0\n",
       "INITIAL_SEVERITY_LEVEL_CODE            0\n",
       "FINAL_CALL_TYPE                        0\n",
       "FINAL_SEVERITY_LEVEL_CODE              0\n",
       "FIRST_ASSIGNMENT_DATETIME           6684\n",
       "VALID_DISPATCH_RSPNS_TIME_INDC         0\n",
       "DISPATCH_RESPONSE_SECONDS_QY           0\n",
       "FIRST_ACTIVATION_DATETIME           7328\n",
       "FIRST_ON_SCENE_DATETIME            17922\n",
       "VALID_INCIDENT_RSPNS_TIME_INDC         0\n",
       "INCIDENT_RESPONSE_SECONDS_QY       17986\n",
       "INCIDENT_TRAVEL_TM_SECONDS_QY      17923\n",
       "FIRST_TO_HOSP_DATETIME            108763\n",
       "FIRST_HOSP_ARRIVAL_DATETIME       109417\n",
       "INCIDENT_CLOSE_DATETIME                0\n",
       "HELD_INDICATOR                         0\n",
       "INCIDENT_DISPOSITION_CODE              0\n",
       "BOROUGH                                0\n",
       "INCIDENT_DISPATCH_AREA                 0\n",
       "ZIPCODE                               12\n",
       "POLICEPRECINCT                         0\n",
       "CITYCOUNCILDISTRICT                    0\n",
       "COMMUNITYDISTRICT                      0\n",
       "COMMUNITYSCHOOLDISTRICT              235\n",
       "CONGRESSIONALDISTRICT                  0\n",
       "REOPEN_INDICATOR                       0\n",
       "SPECIAL_EVENT_INDICATOR                0\n",
       "STANDBY_INDICATOR                      0\n",
       "TRANSFER_INDICATOR                     0\n",
       "incident_year                          0\n",
       "incident_month                         0\n",
       "day_of_week                            0\n",
       "incident_hour                          0\n",
       "incident_duration                      0\n",
       "dtype: int64"
      ]
     },
     "execution_count": 13,
     "metadata": {},
     "output_type": "execute_result"
    }
   ],
   "source": [
    "df.isnull().sum()"
   ]
  },
  {
   "cell_type": "markdown",
   "metadata": {},
   "source": [
    "## CatBoost Gradient Boosting"
   ]
  },
  {
   "cell_type": "code",
   "execution_count": 14,
   "metadata": {},
   "outputs": [
    {
     "name": "stdout",
     "output_type": "stream",
     "text": [
      "Requirement already satisfied: catboost in /home/greencat/anaconda3/lib/python3.12/site-packages (1.2.7)\n",
      "Requirement already satisfied: graphviz in /home/greencat/anaconda3/lib/python3.12/site-packages (from catboost) (0.20.3)\n",
      "Requirement already satisfied: matplotlib in /home/greencat/anaconda3/lib/python3.12/site-packages (from catboost) (3.8.4)\n",
      "Requirement already satisfied: numpy<2.0,>=1.16.0 in /home/greencat/anaconda3/lib/python3.12/site-packages (from catboost) (1.26.4)\n",
      "Requirement already satisfied: pandas>=0.24 in /home/greencat/anaconda3/lib/python3.12/site-packages (from catboost) (2.2.2)\n",
      "Requirement already satisfied: scipy in /home/greencat/anaconda3/lib/python3.12/site-packages (from catboost) (1.13.1)\n",
      "Requirement already satisfied: plotly in /home/greencat/anaconda3/lib/python3.12/site-packages (from catboost) (5.22.0)\n",
      "Requirement already satisfied: six in /home/greencat/anaconda3/lib/python3.12/site-packages (from catboost) (1.16.0)\n",
      "Requirement already satisfied: python-dateutil>=2.8.2 in /home/greencat/anaconda3/lib/python3.12/site-packages (from pandas>=0.24->catboost) (2.9.0.post0)\n",
      "Requirement already satisfied: pytz>=2020.1 in /home/greencat/anaconda3/lib/python3.12/site-packages (from pandas>=0.24->catboost) (2024.1)\n",
      "Requirement already satisfied: tzdata>=2022.7 in /home/greencat/anaconda3/lib/python3.12/site-packages (from pandas>=0.24->catboost) (2023.3)\n",
      "Requirement already satisfied: contourpy>=1.0.1 in /home/greencat/anaconda3/lib/python3.12/site-packages (from matplotlib->catboost) (1.2.0)\n",
      "Requirement already satisfied: cycler>=0.10 in /home/greencat/anaconda3/lib/python3.12/site-packages (from matplotlib->catboost) (0.11.0)\n",
      "Requirement already satisfied: fonttools>=4.22.0 in /home/greencat/anaconda3/lib/python3.12/site-packages (from matplotlib->catboost) (4.51.0)\n",
      "Requirement already satisfied: kiwisolver>=1.3.1 in /home/greencat/anaconda3/lib/python3.12/site-packages (from matplotlib->catboost) (1.4.4)\n",
      "Requirement already satisfied: packaging>=20.0 in /home/greencat/anaconda3/lib/python3.12/site-packages (from matplotlib->catboost) (23.2)\n",
      "Requirement already satisfied: pillow>=8 in /home/greencat/anaconda3/lib/python3.12/site-packages (from matplotlib->catboost) (10.3.0)\n",
      "Requirement already satisfied: pyparsing>=2.3.1 in /home/greencat/anaconda3/lib/python3.12/site-packages (from matplotlib->catboost) (3.0.9)\n",
      "Requirement already satisfied: tenacity>=6.2.0 in /home/greencat/anaconda3/lib/python3.12/site-packages (from plotly->catboost) (8.2.2)\n",
      "Note: you may need to restart the kernel to use updated packages.\n"
     ]
    }
   ],
   "source": [
    "%pip install catboost"
   ]
  },
  {
   "cell_type": "code",
   "execution_count": 15,
   "metadata": {},
   "outputs": [],
   "source": [
    "from catboost import CatBoostClassifier, Pool"
   ]
  },
  {
   "cell_type": "code",
   "execution_count": 23,
   "metadata": {},
   "outputs": [],
   "source": [
    "# df['ZIPCODE'] = df['ZIPCODE'].astype('str')\n",
    "df['POLICEPRECINCT'] = df['POLICEPRECINCT'].astype('str')"
   ]
  },
  {
   "cell_type": "code",
   "execution_count": 24,
   "metadata": {},
   "outputs": [],
   "source": [
    "X = df[feature_cols]\n",
    "y = df[target_col]\n",
    "\n",
    "X_train, X_test, y_train, y_test = train_test_split(X, y, test_size=0.30)"
   ]
  },
  {
   "cell_type": "code",
   "execution_count": 27,
   "metadata": {},
   "outputs": [],
   "source": [
    "categorical_features = ['INITIAL_CALL_TYPE', 'day_of_week', 'POLICEPRECINCT']\n",
    "\n",
    "train_pool = Pool(X_train, y_train, feature_names=feature_cols, cat_features=categorical_features)\n",
    "test_pool = Pool(X_test, y_test, feature_names=feature_cols, cat_features=categorical_features)"
   ]
  },
  {
   "cell_type": "code",
   "execution_count": 32,
   "metadata": {},
   "outputs": [
    {
     "data": {
      "application/vnd.jupyter.widget-view+json": {
       "model_id": "f9346c7a741d4de6803350a732ead50e",
       "version_major": 2,
       "version_minor": 0
      },
      "text/plain": [
       "MetricVisualizer(layout=Layout(align_self='stretch', height='500px'))"
      ]
     },
     "metadata": {},
     "output_type": "display_data"
    },
    {
     "data": {
      "text/plain": [
       "<catboost.core.CatBoostClassifier at 0x7f3e7776bda0>"
      ]
     },
     "execution_count": 32,
     "metadata": {},
     "output_type": "execute_result"
    }
   ],
   "source": [
    "clf = CatBoostClassifier(\n",
    "    loss_function='MultiClass',\n",
    "    # eval_metric='Accuracy',\n",
    "    iterations=50, depth=6, learning_rate=0.1,\n",
    "\ttask_type='GPU',\n",
    ")\n",
    "clf.fit(train_pool, plot=True, verbose=False)"
   ]
  },
  {
   "cell_type": "code",
   "execution_count": 33,
   "metadata": {},
   "outputs": [
    {
     "name": "stdout",
     "output_type": "stream",
     "text": [
      "Accuracy: 0.8300009647387969\n"
     ]
    },
    {
     "name": "stderr",
     "output_type": "stream",
     "text": [
      "/home/greencat/anaconda3/lib/python3.12/site-packages/sklearn/metrics/_classification.py:1509: UndefinedMetricWarning: Precision is ill-defined and being set to 0.0 in labels with no predicted samples. Use `zero_division` parameter to control this behavior.\n",
      "  _warn_prf(average, modifier, f\"{metric.capitalize()} is\", len(result))\n",
      "/home/greencat/anaconda3/lib/python3.12/site-packages/sklearn/metrics/_classification.py:1509: UndefinedMetricWarning: Precision is ill-defined and being set to 0.0 in labels with no predicted samples. Use `zero_division` parameter to control this behavior.\n",
      "  _warn_prf(average, modifier, f\"{metric.capitalize()} is\", len(result))\n"
     ]
    },
    {
     "name": "stdout",
     "output_type": "stream",
     "text": [
      "Report:               precision    recall  f1-score   support\n",
      "\n",
      "       ABDPN       0.92      0.93      0.93      3395\n",
      "      ACTIVE       0.00      0.00      0.00         5\n",
      "      ALTMEN       0.88      0.76      0.81      1629\n",
      "      AMPMIN       0.00      0.00      0.00        11\n",
      "      ANAPFC       0.00      0.00      0.00         3\n",
      "       ANAPH       0.88      0.92      0.90       568\n",
      "      ARREST       0.80      0.70      0.75      1410\n",
      "      ASTHMB       0.65      0.90      0.76       471\n",
      "      BURNHM       0.00      0.00      0.00         3\n",
      "      BURNHZ       0.00      0.00      0.00        13\n",
      "      BURNMA       0.00      0.00      0.00        67\n",
      "      BURNMI       0.00      0.00      0.00        76\n",
      "        CARD       0.87      0.83      0.85      4501\n",
      "      CARDBR       0.91      0.89      0.90      5477\n",
      "      CARDFC       0.00      0.00      0.00         2\n",
      "      CDBRFC       0.00      0.00      0.00         2\n",
      "      CHILDA       0.00      0.00      0.00        14\n",
      "       CHOKE       0.76      0.89      0.82       101\n",
      "        COLD       0.00      0.00      0.00         6\n",
      "         CVA       0.72      0.89      0.80       168\n",
      "        CVAC       0.82      0.88      0.85       988\n",
      "      DIFFBR       0.87      0.86      0.86      3305\n",
      "         DOA       0.00      0.00      0.00         4\n",
      "        DOAU       0.00      0.00      0.00        29\n",
      "       DROWN       0.00      0.00      0.00        23\n",
      "        DRUG       0.92      0.80      0.85      5373\n",
      "         EDP       0.46      0.89      0.60      2008\n",
      "        EDPC       0.85      0.74      0.79      4144\n",
      "        EDPE       0.87      0.27      0.41       145\n",
      "        EDPM       0.44      0.07      0.12      1274\n",
      "        EDPT       0.00      0.00      0.00       178\n",
      "       ELECT       0.00      0.00      0.00        57\n",
      "      GYNHEM       0.51      0.87      0.64       206\n",
      "      GYNMAJ       0.45      0.31      0.37       110\n",
      "        HEAT       0.46      0.62      0.53        89\n",
      "       HYPTN       0.73      0.93      0.82       112\n",
      "      INBLED       0.89      0.87      0.88       663\n",
      "      INHALE       0.00      0.00      0.00        74\n",
      "      INJMAJ       0.92      0.77      0.84      3506\n",
      "      INJMIN       0.46      0.64      0.53       787\n",
      "      INJURY       0.87      0.93      0.90      9674\n",
      "      JUMPDN       0.50      0.76      0.60        42\n",
      "      JUMPUP       0.00      0.00      0.00        57\n",
      "       MCI21       0.00      0.00      0.00        69\n",
      "       MCI22       0.00      0.00      0.00         7\n",
      "       MCI23       0.00      0.00      0.00         3\n",
      "       MCI32       0.00      0.00      0.00         5\n",
      "       MCI33       0.00      0.00      0.00         1\n",
      "       MCI43       0.00      0.00      0.00        32\n",
      "       MCI59       0.00      0.00      0.00         1\n",
      "       MCI76       0.00      0.00      0.00         2\n",
      "       MCI77       0.00      0.00      0.00        10\n",
      "       MCI80       0.00      0.00      0.00         2\n",
      "      MEDRXN       0.56      0.81      0.66       120\n",
      "         MVA       0.57      0.80      0.67        10\n",
      "      MVAINJ       0.92      0.96      0.94      1852\n",
      "      OBCOMP       0.00      0.00      0.00       100\n",
      "       OBLAB       0.00      0.00      0.00       233\n",
      "       OBMAJ       0.00      0.00      0.00       209\n",
      "       OBMIS       0.57      0.68      0.62       124\n",
      "       OBOUT       0.00      0.00      0.00        13\n",
      "       OTHER       0.88      0.92      0.90       904\n",
      "        PD13       0.78      0.77      0.78        66\n",
      "       PD13C       0.77      0.97      0.86       278\n",
      "       PEDFC       0.00      0.00      0.00         1\n",
      "      PEDSTR       0.94      0.93      0.93      1328\n",
      "      RESPFC       0.00      0.00      0.00         1\n",
      "      RESPIR       0.73      0.83      0.78       623\n",
      "        SAFE       0.68      0.53      0.60        43\n",
      "       SEIZR       0.85      0.84      0.84       560\n",
      "        SHOT       0.75      0.92      0.83       150\n",
      "        SICK       0.89      0.81      0.85     10387\n",
      "      SICKFC       0.00      0.00      0.00         1\n",
      "      SICMIN       0.84      0.84      0.84       482\n",
      "      SICPED       0.35      0.85      0.50       299\n",
      "      SPEVNT       0.00      0.00      0.00         1\n",
      "        STAB       0.83      0.90      0.86       444\n",
      "      STATEP       0.91      0.89      0.90      1511\n",
      "      STNDBM       0.00      0.00      0.00        17\n",
      "      STNDBY       0.76      0.97      0.85       183\n",
      "      T-ARST       0.00      0.00      0.00         4\n",
      "      T-ASTH       0.00      0.00      0.00         1\n",
      "      T-CARD       0.00      0.00      0.00         4\n",
      "      T-CDBR       0.00      0.00      0.00         2\n",
      "      T-CVAC       0.00      0.00      0.00         1\n",
      "      T-DFBR       0.00      0.00      0.00         5\n",
      "       T-EDP       0.17      0.60      0.26        30\n",
      "       T-INJ       0.00      0.00      0.00        16\n",
      "      T-OBST       0.00      0.00      0.00         1\n",
      "      T-SHOT       0.00      0.00      0.00         4\n",
      "      T-SICK       0.00      0.00      0.00        11\n",
      "      T-STAB       0.00      0.00      0.00         9\n",
      "      T-TEXT       0.00      0.00      0.00        27\n",
      "      T-TRMA       0.00      0.00      0.00         5\n",
      "       T-UNC       0.00      0.00      0.00        13\n",
      "      T-UNKN       0.00      0.00      0.00        13\n",
      "      TRAUMA       0.58      0.67      0.62       284\n",
      "         UNC       0.84      0.88      0.86      5053\n",
      "      UNKNOW       0.79      0.96      0.87      6599\n",
      "\n",
      "    accuracy                           0.83     82924\n",
      "   macro avg       0.35      0.38      0.35     82924\n",
      "weighted avg       0.83      0.83      0.82     82924\n",
      "\n"
     ]
    },
    {
     "name": "stderr",
     "output_type": "stream",
     "text": [
      "/home/greencat/anaconda3/lib/python3.12/site-packages/sklearn/metrics/_classification.py:1509: UndefinedMetricWarning: Precision is ill-defined and being set to 0.0 in labels with no predicted samples. Use `zero_division` parameter to control this behavior.\n",
      "  _warn_prf(average, modifier, f\"{metric.capitalize()} is\", len(result))\n"
     ]
    }
   ],
   "source": [
    "y_pred = clf.predict(X_test)\n",
    "\n",
    "accuracy = accuracy_score(y_test, y_pred)\n",
    "print(f'Accuracy: {accuracy}')\n",
    "\n",
    "report = classification_report(y_test, y_pred)\n",
    "print(f'Report: {report}')"
   ]
  },
  {
   "cell_type": "code",
   "execution_count": 36,
   "metadata": {},
   "outputs": [
    {
     "data": {
      "text/html": [
       "<div>\n",
       "<style scoped>\n",
       "    .dataframe tbody tr th:only-of-type {\n",
       "        vertical-align: middle;\n",
       "    }\n",
       "\n",
       "    .dataframe tbody tr th {\n",
       "        vertical-align: top;\n",
       "    }\n",
       "\n",
       "    .dataframe thead th {\n",
       "        text-align: right;\n",
       "    }\n",
       "</style>\n",
       "<table border=\"1\" class=\"dataframe\">\n",
       "  <thead>\n",
       "    <tr style=\"text-align: right;\">\n",
       "      <th></th>\n",
       "      <th>Feature Id</th>\n",
       "      <th>Importances</th>\n",
       "    </tr>\n",
       "  </thead>\n",
       "  <tbody>\n",
       "    <tr>\n",
       "      <th>0</th>\n",
       "      <td>INITIAL_SEVERITY_LEVEL_CODE</td>\n",
       "      <td>78.126015</td>\n",
       "    </tr>\n",
       "    <tr>\n",
       "      <th>1</th>\n",
       "      <td>INITIAL_CALL_TYPE</td>\n",
       "      <td>21.492085</td>\n",
       "    </tr>\n",
       "    <tr>\n",
       "      <th>2</th>\n",
       "      <td>POLICEPRECINCT</td>\n",
       "      <td>0.220506</td>\n",
       "    </tr>\n",
       "    <tr>\n",
       "      <th>3</th>\n",
       "      <td>incident_hour</td>\n",
       "      <td>0.161394</td>\n",
       "    </tr>\n",
       "    <tr>\n",
       "      <th>4</th>\n",
       "      <td>day_of_week</td>\n",
       "      <td>0.000000</td>\n",
       "    </tr>\n",
       "  </tbody>\n",
       "</table>\n",
       "</div>"
      ],
      "text/plain": [
       "                    Feature Id  Importances\n",
       "0  INITIAL_SEVERITY_LEVEL_CODE    78.126015\n",
       "1            INITIAL_CALL_TYPE    21.492085\n",
       "2               POLICEPRECINCT     0.220506\n",
       "3                incident_hour     0.161394\n",
       "4                  day_of_week     0.000000"
      ]
     },
     "execution_count": 36,
     "metadata": {},
     "output_type": "execute_result"
    }
   ],
   "source": [
    "clf.get_feature_importance(prettified=True)"
   ]
  },
  {
   "cell_type": "markdown",
   "metadata": {},
   "source": [
    "Model 1 : 83.0%\n",
    "iter 50\n",
    "depth 6\n",
    "learn rate 0.1\n",
    "features ['INITIAL_CALL_TYPE', 'INITIAL_SEVERITY_LEVEL_CODE', 'day_of_week', 'incident_hour', 'BOROUGH']\n"
   ]
  },
  {
   "cell_type": "markdown",
   "metadata": {},
   "source": [
    "Model 2: 83.2% iter 100 depth 10 learn rate 0.1 features ['INITIAL_CALL_TYPE', 'INITIAL_SEVERITY_LEVEL_CODE', 'day_of_week', 'incident_hour', 'BOROUGH', 'incident_duration', 'ZIPCODE']"
   ]
  }
 ],
 "metadata": {
  "kaggle": {
   "accelerator": "none",
   "dataSources": [
    {
     "datasetId": 31227,
     "sourceId": 1803361,
     "sourceType": "datasetVersion"
    }
   ],
   "dockerImageVersionId": 30786,
   "isGpuEnabled": false,
   "isInternetEnabled": true,
   "language": "python",
   "sourceType": "notebook"
  },
  "kernelspec": {
   "display_name": "base",
   "language": "python",
   "name": "python3"
  },
  "language_info": {
   "codemirror_mode": {
    "name": "ipython",
    "version": 3
   },
   "file_extension": ".py",
   "mimetype": "text/x-python",
   "name": "python",
   "nbconvert_exporter": "python",
   "pygments_lexer": "ipython3",
   "version": "3.12.4"
  }
 },
 "nbformat": 4,
 "nbformat_minor": 4
}
